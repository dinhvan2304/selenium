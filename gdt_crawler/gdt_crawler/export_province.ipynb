{
 "cells": [
  {
   "cell_type": "code",
   "execution_count": 5,
   "metadata": {},
   "outputs": [],
   "source": [
    "import pandas as pd\n",
    "from sqlalchemy import create_engine\n",
    "from urllib.parse import quote\n",
    "\n",
    "sqlEngine = create_engine(\n",
    "    \"mysql+pymysql://root:%s@172.16.10.112:3306/hkd\" % quote(\"Ptdl@123\")\n",
    ")\n",
    "sqlEngine = create_engine(\n",
    "    \"mysql+pymysql://root:%s@127.0.0.1:3306/bid\" % quote(\"\")\n",
    ")\n",
    "\n",
    "provinces_info = pd.read_csv(\"gdt_province.csv\")"
   ]
  },
  {
   "cell_type": "code",
   "execution_count": 7,
   "metadata": {},
   "outputs": [],
   "source": [
    "# Start import city\n",
    "city = pd.DataFrame()\n",
    "\n",
    "city['name'] = provinces_info['tinh'].drop_duplicates()\n",
    "city['status'] = 1\n",
    "\n",
    "with sqlEngine.begin() as connection:\n",
    "        city.to_sql(\n",
    "            name=\"provinces\", con=connection, if_exists=\"append\", index=False\n",
    "        )"
   ]
  },
  {
   "cell_type": "code",
   "execution_count": 19,
   "metadata": {},
   "outputs": [],
   "source": [
    "def get_id_city(name, list_city):\n",
    "\treturn list_city[name]"
   ]
  },
  {
   "cell_type": "code",
   "execution_count": 24,
   "metadata": {},
   "outputs": [],
   "source": [
    "query = \"SELECT id, `name` FROM provinces WHERE head_id IS NULL\"\n",
    "sql_city_info = pd.read_sql(query, con=sqlEngine)\n",
    "sql_city_info = dict(zip(sql_city_info.name, sql_city_info.id))\n",
    "provinces_info['city_id'] = provinces_info['tinh'].apply(lambda x: sql_city_info[x])\n",
    "\n",
    "district = pd.DataFrame()\n",
    "district[\"name\"] = provinces_info[\"huyen\"].drop_duplicates()\n",
    "district['status'] = 1\n",
    "district['head_id'] = provinces_info['city_id'] \n",
    "\n",
    "with sqlEngine.begin() as connection:\n",
    "        district.to_sql(\n",
    "            name=\"provinces\", con=connection, if_exists=\"append\", index=False\n",
    "        )"
   ]
  },
  {
   "cell_type": "code",
   "execution_count": 26,
   "metadata": {},
   "outputs": [],
   "source": [
    "query = \"SELECT id, `name` FROM provinces WHERE head_id IS NOT NULL\"\n",
    "sql_district_info = pd.read_sql(query, con=sqlEngine)\n",
    "sql_district_info = dict(zip(sql_district_info.name, sql_district_info.id))\n",
    "provinces_info['district_id'] = provinces_info['huyen'].apply(lambda x: sql_district_info[x])\n",
    "provinces_info.head()\n",
    "\n",
    "commune = pd.DataFrame()\n",
    "commune[\"name\"] = provinces_info[\"xa\"].drop_duplicates()\n",
    "commune['status'] = 1\n",
    "commune['head_id'] = provinces_info['district_id'] \n",
    "\n",
    "with sqlEngine.begin() as connection:\n",
    "        commune.to_sql(\n",
    "            name=\"provinces\", con=connection, if_exists=\"append\", index=False\n",
    "        )"
   ]
  }
 ],
 "metadata": {
  "kernelspec": {
   "display_name": "Python 3.9.10 64-bit",
   "language": "python",
   "name": "python3"
  },
  "language_info": {
   "codemirror_mode": {
    "name": "ipython",
    "version": 3
   },
   "file_extension": ".py",
   "mimetype": "text/x-python",
   "name": "python",
   "nbconvert_exporter": "python",
   "pygments_lexer": "ipython3",
   "version": "3.9.10"
  },
  "orig_nbformat": 4,
  "vscode": {
   "interpreter": {
    "hash": "c5480b40a0632cec59876b54e80e938058e086ea32829f46bcbb182f42496bd3"
   }
  }
 },
 "nbformat": 4,
 "nbformat_minor": 2
}
