{
 "cells": [
  {
   "cell_type": "code",
   "execution_count": null,
   "metadata": {},
   "outputs": [],
   "source": [
    "import pandas as pd\n",
    "import numpy as np\n",
    "\n",
    "data_input = pd.read_excel(\"/Users/dinhvan/Document/Projects/Crawl/selenium/SOE/result/SOE2/Result_search_CTC.xlsx\", dtype= str)\n",
    "\n",
    "# data_input.loc[data_input['mst'].str.len() != 10]\n",
    "\n",
    "# data_chuanhoa = pd.read_excel(\"/Users/dinhvan/Document/Documents - Dinh Van/Projects/Crawl/selenium/SOE/result/SOE2/HO_CTC_niem_yet_chuan_hoa.xlsx\", dtype = str)\n",
    "# vnr = pd.read_csv(\"/Users/dinhvan/Document/Documents - Dinh Van/Projects/Crawl/selenium/vnr500/VNR500/vnr_500.csv\", dtype=str)\n",
    "# vnr = vnr.loc[vnr['Mã chứng khoán'] != \"Chưa niêm yết\"]\n",
    "# vietstock = pd.read_csv(\"/Users/dinhvan/Document/Documents - Dinh Van/Projects/Crawl/selenium/SOE/result/SOE1(HO)/url_HO_niem_yet.csv\", dtype= str)\n",
    "\n",
    "\n",
    "dict_mst = dict(zip(data_input['name_input'], data_input['mst']))\n",
    "# data_input['mst'] =data_input['mst'].str.strip()\n",
    "# data_input['mst'] =data_input['mst'].str.zfill(10)\n",
    "\n",
    "\n",
    "# chuan_hoa_MCK = dict(zip(data_chuanhoa['Chuẩn hoá tên'],data_chuanhoa['mck_cong_ty_HO']))\n",
    "# chuan_hoa_ti_le = dict(zip(data_chuanhoa['Chuẩn hoá tên'],data_chuanhoa['ti_le_so_huu']))\n",
    "# mst_HO = dict(zip(vnr['Mã chứng khoán'], vnr['Mã số thuế']))\n",
    "# # vietstock = dict(zip(vietstock['']))\n",
    "\n",
    "# data_input['Tỉ lệ sở hữu'] = data_input['name_input'].map(chuan_hoa_ti_le)\n",
    "# data_input['MCK'] = data_input['name_input'].map(chuan_hoa_MCK)\n",
    "# data_input['MST HO'] = data_input['MCK'].map(mst_HO)\n",
    "# data_input.loc[data_input['MST HO'].isna()]\n",
    "\n",
    "\n",
    "# vietstock\n",
    "# data_ouput = pd.read_csv(\"/Users/dinhvan/Documents/Documents - Dinh Van/Projects/Crawl/selenium/SOE/result/SOE2/Result_search_CTC_plus.csv\", dtype= str)\n",
    "# data_ouput.to_excel(\"/Users/dinhvan/Documents/Documents - Dinh Van/Projects/Crawl/selenium/SOE/result/SOE2/Result_search_CTC_plus.xlsx\", index = False)"
   ]
  },
  {
   "cell_type": "code",
   "execution_count": null,
   "metadata": {},
   "outputs": [],
   "source": [
    "import pandas as pd\n",
    "\n",
    " \n",
    "ctc_chuan_hoa = pd.read_excel(\"/Users/dinhvan/Document/Projects/Crawl/selenium/SOE/result/SOE2/HO_CTC_niem_yet_chuan_hoa.xlsx\", dtype= str)\n",
    "ctc_chuan_hoa['MST_CTC'] =  ctc_chuan_hoa['Chuẩn hoá tên'].map(dict_mst)\n",
    "ctc_chuan_hoa['MST_CTC'] = ctc_chuan_hoa['MST_CTC'].str.replace(\"\\t\", \"\")\n",
    "ctc_chuan_hoa['MST_CTC'] = ctc_chuan_hoa['MST_CTC'].str.zfill(10)\n",
    "ctc_chuan_hoa['MST_CTC'] = ctc_chuan_hoa['MST_CTC'].str.strip()\n",
    "# ctc_chuan_hoa.loc[ctc_chuan_hoa['MST_CTC'].isna()]\n",
    "ctc_chuan_hoa\n"
   ]
  },
  {
   "cell_type": "code",
   "execution_count": null,
   "metadata": {},
   "outputs": [],
   "source": [
    "import pandas as pd\n",
    "HO_niem_yet = pd.read_csv(\"/Users/dinhvan/Document/Projects/Crawl/selenium/SOE/result/SOE1(HO)/url_HO_niem_yet.csv\", dtype= str)\n",
    "dict_ten_HO = dict(zip(HO_niem_yet['MCK'],HO_niem_yet['Tên HO']))\n",
    "dict_mst_HO = dict(zip(HO_niem_yet['MCK'], HO_niem_yet['MST']))\n",
    "ctc_chuan_hoa['Tên SOE1'] =  ctc_chuan_hoa['mck_cong_ty_HO'].map(dict_ten_HO)\n",
    "ctc_chuan_hoa['Mã số thuế SOE1'] = ctc_chuan_hoa['mck_cong_ty_HO'].map(dict_mst_HO)\n",
    "# ctc_chuan_hoa.to_excel(\"/Users/dinhvan/Document/Documents - Dinh Van/Projects/Crawl/selenium/SOE/result/SOE2/CTC_SOE_niem_yet.xlsx\", index = False)\n",
    "ctc_chuan_hoa"
   ]
  },
  {
   "cell_type": "code",
   "execution_count": null,
   "metadata": {},
   "outputs": [],
   "source": [
    "import pandas as pd\n",
    "\n",
    "fill = pd.read_excel(\"/Users/dinhvan/Document/Projects/Crawl/selenium/SOE/result/SOE2/CTC_SOE_niem_yet.xlsx\", dtype = str)\n",
    "# HO_niem_yet = pd.read_csv(\"/Users/dinhvan/Document/Documents - Dinh Van/Projects/Crawl/selenium/SOE/result/SOE1(HO)/url_HO_niem_yet.csv\", dtype= str)\n",
    "\n",
    "filler = HO_niem_yet[~HO_niem_yet[\"MCK\"].isin(ctc_chuan_hoa['mck_cong_ty_HO'])]\n",
    "filler = filler[['Tên HO','MST']]\n",
    "filler = filler.rename({'Tên HO' : 'Tên SOE1',\n",
    "               'MST'    : 'Mã số thuế SOE1'},axis=1)\n",
    "ctc_chuan_hoa = pd.concat([ctc_chuan_hoa,filler], ignore_index=True)\n",
    "ctc_chuan_hoa\n"
   ]
  },
  {
   "cell_type": "code",
   "execution_count": null,
   "metadata": {},
   "outputs": [],
   "source": [
    "ctc_chuan_hoa.to_excel(\"/Users/dinhvan/Document/Projects/Crawl/selenium/SOE/result/SOE2/CTC_SOE_niem_yet.xlsx\", index= False)"
   ]
  },
  {
   "cell_type": "code",
   "execution_count": null,
   "metadata": {},
   "outputs": [],
   "source": [
    "import pandas as pd\n",
    "\n",
    "SOE_niem_yet = pd.read_excel(\"/Users/dinhvan/Document/Projects/Crawl/selenium/SOE/result/SOE2/CTC_SOE_niem_yet.xlsx\", dtype= str)\n",
    "SOE_lam_tay = pd.read_excel(\"/Users/dinhvan/Document/Projects/Crawl/selenium/SOE/result/SOE2/SOE_tim_tay.xlsx\", dtype= str)\n",
    "check = pd.read_excel(\"/Users/dinhvan/Document/Projects/Crawl/selenium/SOE/result/SOE1(HO)/SOE_input1.xlsx\", dtype= str)\n",
    "SOE_total = pd.concat([SOE_lam_tay,SOE_niem_yet], ignore_index= True)\n",
    "# SOE_total = SOE_total[(~SOE_total['Mã số thuế SOE2'].duplicated()) | SOE_total['Mã số thuế SOE2'].isna()]\n",
    "\n",
    "# SOE_total = SOE_total.drop_duplicates(subset=['Mã số thuế SOE2'], ignore_index=True)\n",
    "# check[~check['MST'].isin(SOE_total['Mã số thuế SOE1'])]\n",
    "# SOE_total.loc[SOE_total['Mã số thuế SOE1'].str.len() != 10]\n",
    "# check['Tên HO'].nunique()\n",
    "# SOE_lam_tay.groupby('Tên SOE1').filter(lambda x: len(x['Mã số thuế SOE1'].unique()) > 1)\n",
    "\n",
    "SOE_total.to_excel(\"/Users/dinhvan/Document/Projects/Crawl/selenium/SOE/result/SOE2/SOE2_temp.xlsx\", index= False)\n"
   ]
  }
 ],
 "metadata": {
  "kernelspec": {
   "display_name": "Python 3",
   "language": "python",
   "name": "python3"
  },
  "language_info": {
   "codemirror_mode": {
    "name": "ipython",
    "version": 3
   },
   "file_extension": ".py",
   "mimetype": "text/x-python",
   "name": "python",
   "nbconvert_exporter": "python",
   "pygments_lexer": "ipython3",
   "version": "3.9.6"
  },
  "orig_nbformat": 4,
  "vscode": {
   "interpreter": {
    "hash": "31f2aee4e71d21fbe5cf8b01ff0e069b9275f58929596ceb00d14d90e3e16cd6"
   }
  }
 },
 "nbformat": 4,
 "nbformat_minor": 2
}
