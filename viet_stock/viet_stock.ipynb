{
 "cells": [
  {
   "cell_type": "code",
   "execution_count": null,
   "metadata": {},
   "outputs": [],
   "source": [
    "import os\n",
    "import pandas as pd\n",
    "\n",
    "path = '/Users/dinhvan/Documents/Crawl/'\n",
    "\n",
    "frames = []\n",
    "all_length = []\n",
    "for file in os.listdir(path):\n",
    "    if file.endswith('.csv'):\n",
    "        filepath = path + file\n",
    "        df1 = pd.read_csv(filepath)\n",
    "        frames.append(df1)\n",
    "        result = pd.concat(frames)\n",
    "        length_1month = len(df1.index)\n",
    "        all_length.append(length_1month)\n",
    "\n",
    "result.to_csv('Total_vietStock_dt_quy.csv', index=False)"
   ]
  },
  {
   "cell_type": "code",
   "execution_count": null,
   "metadata": {},
   "outputs": [],
   "source": [
    "import numpy as np\n",
    "data = pd.read_csv(\"Total_vietStock_dt_quy.csv\",dtype={'mst':np.str})\n",
    "# data['cong_ty_con'] = data['cong_ty_con'].str.replace(\"[\",'')\n",
    "# data['cong_ty_con'] = data['cong_ty_con'].str.replace(\"]\",'')\n",
    "# data['cong_ty_con'] = data['cong_ty_con'].str.replace(\"'\",'')\n",
    "data = data.drop_duplicates(subset=['ten_cong_ty'],keep = 'first')\n",
    "# data = data.drop_duplicates(subset=['mst'],keep = 'first')\n",
    "data = data.drop_duplicates(subset=['mck'],keep = 'first')\n",
    "data = data.drop(data.columns[0],axis  =1)\n",
    "data = data.reset_index(drop = True)\n",
    "# data['mst'] =data['mst'].astype('object')\n",
    "data.to_csv('Result_total_dt_quy.csv')\n",
    "data\n"
   ]
  },
  {
   "cell_type": "code",
   "execution_count": null,
   "metadata": {},
   "outputs": [],
   "source": [
    "import pandas as pd\n",
    "import numpy as np\n",
    "\n",
    "data = pd.read_csv('/Users/dinhvan/Documents/Crawl/datainput/hkd.csv',dtype ={'mst':np.str})\n",
    "data['mst'] = data['mst'].str.strip()\n",
    "data['mst'] = data['mst'].str.replace(' ','')\n",
    "\n",
    "# data.drop(data.loc[(data['mst'].str.len() != 10) & (data['mst'].str.len() != 14) & (data['mst'].str.len() != 13)].index,inplace = True)\n",
    "# data['mst'] = data['mst'].apply(lambda x: (x[:10]+'-'+x[10:]) if len(x) == 13 else x) \n",
    "# data['mst'].str.len().unique()\n",
    "# data = data.reset_index(drop = True)\n",
    "# data.drop(data.loc[(data['mst'].str.len() == 14) & (data['mst'].str.isnumeric() == True)].index,inplace = True)\n",
    "# data = data.reset_index(drop = True)\n",
    "# data1 = data.head(100000)\n",
    "# data1.to_csv('input1_hkd.csv')\n",
    "# data1 = data.iloc[100001:]\n",
    "data"
   ]
  },
  {
   "cell_type": "code",
   "execution_count": null,
   "metadata": {},
   "outputs": [],
   "source": [
    "import pandas as pd\n",
    "import numpy as np\n",
    "data = pd.read_csv('/Users/dinhvan/Documents/Crawl/datainput/input1_hkd.csv',dtype = {'mst':np.str})\n",
    "data1 = data.tail(78000)\n",
    "data1.to_csv('input1_3_hkd.csv')"
   ]
  },
  {
   "cell_type": "code",
   "execution_count": null,
   "metadata": {},
   "outputs": [],
   "source": [
    "import pandas as pd\n",
    "import numpy as np\n",
    "\n",
    "data_FDI = pd.read_csv('Result_FDI.csv')\n",
    "data_FDI"
   ]
  }
 ],
 "metadata": {
  "kernelspec": {
   "display_name": "Python 3.9.6 64-bit",
   "language": "python",
   "name": "python3"
  },
  "language_info": {
   "codemirror_mode": {
    "name": "ipython",
    "version": 3
   },
   "file_extension": ".py",
   "mimetype": "text/x-python",
   "name": "python",
   "nbconvert_exporter": "python",
   "pygments_lexer": "ipython3",
   "version": "3.9.6"
  },
  "orig_nbformat": 4,
  "vscode": {
   "interpreter": {
    "hash": "31f2aee4e71d21fbe5cf8b01ff0e069b9275f58929596ceb00d14d90e3e16cd6"
   }
  }
 },
 "nbformat": 4,
 "nbformat_minor": 2
}
